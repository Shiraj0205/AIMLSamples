{
  "nbformat": 4,
  "nbformat_minor": 0,
  "metadata": {
    "colab": {
      "provenance": [],
      "authorship_tag": "ABX9TyOpug0p1YLndvDS3SPXYtjM",
      "include_colab_link": true
    },
    "kernelspec": {
      "name": "python3",
      "display_name": "Python 3"
    },
    "language_info": {
      "name": "python"
    }
  },
  "cells": [
    {
      "cell_type": "markdown",
      "metadata": {
        "id": "view-in-github",
        "colab_type": "text"
      },
      "source": [
        "<a href=\"https://colab.research.google.com/github/Shiraj0205/AIMLSamples/blob/main/nltkDemo.ipynb\" target=\"_parent\"><img src=\"https://colab.research.google.com/assets/colab-badge.svg\" alt=\"Open In Colab\"/></a>"
      ]
    },
    {
      "cell_type": "code",
      "execution_count": null,
      "metadata": {
        "id": "dykzi8XAFvQ_"
      },
      "outputs": [],
      "source": []
    },
    {
      "cell_type": "code",
      "source": [
        "import nltk\n",
        "from nltk.stem.porter import PorterStemmer\n",
        "stemmer = PorterStemmer()"
      ],
      "metadata": {
        "id": "CPhXjQYGF3dw"
      },
      "execution_count": 2,
      "outputs": []
    },
    {
      "cell_type": "code",
      "source": [
        "paragraph = \"\"\"\n",
        "\n",
        "Whether you’re hosting for the holiday weekend or want to take advantage of the underrated list of deals,\n",
        "Target’s 4th of July sale is delivering savings across the board. From deep discounts on patio furniture and grills to markdowns on tech,\n",
        "fashion and everyday essentials, this is one of those rare moments when you can save big just days ahead of the real thing. I’ve been tracking all\n",
        " the early sales and combed through the best 4th of July deals at Target to highlight what’s worth your time and money, because much\n",
        " like the fireworks, these savings won’t stick around for long.\n",
        "\n",
        "\"\"\"\n",
        "\n",
        "print(paragraph)"
      ],
      "metadata": {
        "colab": {
          "base_uri": "https://localhost:8080/"
        },
        "id": "2sybepJ6GK2A",
        "outputId": "ae67a83e-572b-4393-dbca-9a0abd0c5aeb"
      },
      "execution_count": 4,
      "outputs": [
        {
          "output_type": "stream",
          "name": "stdout",
          "text": [
            "\n",
            "\n",
            "Whether you’re hosting for the holiday weekend or want to take advantage of the underrated list of deals, \n",
            "Target’s 4th of July sale is delivering savings across the board. From deep discounts on patio furniture and grills to markdowns on tech, \n",
            "fashion and everyday essentials, this is one of those rare moments when you can save big just days ahead of the real thing. I’ve been tracking all\n",
            " the early sales and combed through the best 4th of July deals at Target to highlight what’s worth your time and money, because much \n",
            " like the fireworks, these savings won’t stick around for long.\n",
            "\n",
            "\n"
          ]
        }
      ]
    }
  ]
}